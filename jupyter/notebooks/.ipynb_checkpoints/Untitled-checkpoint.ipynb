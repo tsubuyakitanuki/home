{
 "cells": [
  {
   "cell_type": "code",
   "execution_count": 22,
   "id": "bd096db0-5651-4ce5-8d3f-a5dc70ed6e51",
   "metadata": {},
   "outputs": [
    {
     "ename": "IndentationError",
     "evalue": "expected an indented block (2754554175.py, line 21)",
     "output_type": "error",
     "traceback": [
      "\u001b[0;36m  File \u001b[0;32m\"/tmp/ipykernel_47/2754554175.py\"\u001b[0;36m, line \u001b[0;32m21\u001b[0m\n\u001b[0;31m    def __init__(self):\u001b[0m\n\u001b[0m    ^\u001b[0m\n\u001b[0;31mIndentationError\u001b[0m\u001b[0;31m:\u001b[0m expected an indented block\n"
     ]
    }
   ],
   "source": [
    "class MyClass:\n",
    "    class innerClass:\n",
    "        def __init__(self):\n",
    "            self.speed1 = 100\n",
    "            self.speed2 = 100\n",
    "            self.speed3 = 100\n",
    "        def __str__(self):\n",
    "            return f'  speed1 = {self.speed1}\\n'\\\n",
    "                   f'  speed2 = {self.speed2}\\n'\\\n",
    "                   f'  speed3 = {self.speed3}\\n'\n",
    "        def change(self,\\\n",
    "                   speed1=None,\\\n",
    "                   speed2=None,\\\n",
    "                   speed3=None,\\\n",
    "                   test  = 100):\n",
    "            if speed1 != None:\n",
    "                self.speed1 = speed1\n",
    "            if speed2 != None:\n",
    "                self.speed2 = speed2\n",
    "            if speed3 != None:\n",
    "                self.speed3 = speed3\n",
    "                \n",
    "    def __init__(self):\n",
    "        self.x = MyClass.innerClass()\n",
    "        self.y = MyClass.innerClass()\n",
    "        self.z = MyClass.innerClass()\n",
    " \n",
    "    def __str__(self):\n",
    "        return f'x :\\n'\\\n",
    "               f'{self.x}\\n'\\\n",
    "               f'y :\\n'\\\n",
    "               f'{self.y}\\n'\\\n",
    "               f'z :\\n'\\\n",
    "               f'{self.z}\\n'\n",
    "    def change(self,axis,value=1000):\n",
    "#         exec('self.x.change()',{},{axis:\"x\"})\n",
    "        code = f'self.{axis}.change(speed3=1500)'\n",
    "        exec(code)\n",
    " \n",
    "    \n",
    "if __name__ == \"__main__\":\n",
    "    a = MyClass()\n",
    "    print(a)\n",
    "    a.change(\"x\")\n",
    "    print(a)\n",
    " "
   ]
  },
  {
   "cell_type": "code",
   "execution_count": null,
   "id": "0bfcc9c6-1f60-4bb8-bd40-9ed734bbc128",
   "metadata": {},
   "outputs": [],
   "source": []
  }
 ],
 "metadata": {
  "kernelspec": {
   "display_name": "Python 3 (ipykernel)",
   "language": "python",
   "name": "python3"
  },
  "language_info": {
   "codemirror_mode": {
    "name": "ipython",
    "version": 3
   },
   "file_extension": ".py",
   "mimetype": "text/x-python",
   "name": "python",
   "nbconvert_exporter": "python",
   "pygments_lexer": "ipython3",
   "version": "3.9.7"
  }
 },
 "nbformat": 4,
 "nbformat_minor": 5
}
