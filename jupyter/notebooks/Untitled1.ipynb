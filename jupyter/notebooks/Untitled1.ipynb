{
 "cells": [
  {
   "cell_type": "code",
   "execution_count": 7,
   "id": "8cfc30be-3fa4-42f2-bf1f-61faa71f276f",
   "metadata": {},
   "outputs": [
    {
     "name": "stderr",
     "output_type": "stream",
     "text": [
      "\n",
      "(4,22): warning CS7022: プログラムのエントリ ポイントは、グローバル コードです。エントリ ポイント 'Hello.Main()' を無視します。\n",
      "\n"
     ]
    }
   ],
   "source": [
    "using System;\n",
    "\n",
    "public class Hello{\n",
    "  public static void Main(){\n",
    "    Console.WriteLine(\"hello world!\");\n",
    "  }\n",
    "}\n"
   ]
  },
  {
   "cell_type": "code",
   "execution_count": 8,
   "id": "8630bce2-2f35-4bfa-af90-58e41190b6dc",
   "metadata": {},
   "outputs": [
    {
     "name": "stdout",
     "output_type": "stream",
     "text": [
      "hello world!\n"
     ]
    }
   ],
   "source": [
    "Hello.Main()"
   ]
  },
  {
   "cell_type": "code",
   "execution_count": null,
   "id": "fb51ece9-2ab2-48d3-ac36-36e82124ef0e",
   "metadata": {},
   "outputs": [],
   "source": []
  },
  {
   "cell_type": "code",
   "execution_count": null,
   "id": "b9882bce-16d6-456b-a891-3c5d33d76661",
   "metadata": {},
   "outputs": [],
   "source": []
  }
 ],
 "metadata": {
  "kernelspec": {
   "display_name": ".NET (C#)",
   "language": "C#",
   "name": ".net-csharp"
  },
  "language_info": {
   "file_extension": ".cs",
   "mimetype": "text/x-csharp",
   "name": "C#",
   "pygments_lexer": "csharp",
   "version": "9.0"
  },
  "toc-showcode": true
 },
 "nbformat": 4,
 "nbformat_minor": 5
}
