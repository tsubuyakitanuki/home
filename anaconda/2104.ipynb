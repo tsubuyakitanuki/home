{
 "cells": [
  {
   "cell_type": "markdown",
   "metadata": {},
   "source": [
    "スレッド実験"
   ]
  },
  {
   "cell_type": "code",
   "execution_count": 1,
   "metadata": {},
   "outputs": [
    {
     "name": "stdout",
     "output_type": "stream",
     "text": [
      "START foo\n",
      "START baz\n",
      "IN LOCK\n",
      "START bar\n",
      "IN LOCK\n",
      "IN LOCK\n",
      "IN LOCK\n",
      "IN LOCK\n",
      "IN LOCK\n",
      "START foobar\n"
     ]
    }
   ],
   "source": [
    "import threading\n",
    "import time\n",
    "import sys\n",
    "# sys._getframe().f_code.co_name自身の関数名を取得\n",
    "\n",
    "def foo(arg=[0]):\n",
    "    global LOCK\n",
    "    with LOCK:\n",
    "        print(\"START\",sys._getframe().f_code.co_name)\n",
    "        print(arg)\n",
    "        time.sleep(1)\n",
    "\n",
    "def bar(arg=[0]):\n",
    "    global LOCK\n",
    "    with LOCK:\n",
    "        print(\"START\",sys._getframe().f_code.co_name)\n",
    "        print(arg)\n",
    "        time.sleep(5)\n",
    "def foobar(arg=[0]):\n",
    "    global LOCK\n",
    "    while LOCK.locked():\n",
    "        print(\"IN LOCK\")\n",
    "        time.sleep(1)\n",
    "    with LOCK:\n",
    "        print(\"START\",sys._getframe().f_code.co_name)\n",
    "def baz(arg=[0]):\n",
    "    print(\"START\",sys._getframe().f_code.co_name)\n",
    "\n",
    "LOCK = threading.Lock()\n",
    "threading.Thread(daemon=True, target=foo).start()\n",
    "threading.Thread(daemon=True,target=baz).start()\n",
    "threading.Thread(daemon=True, target=bar).start()\n",
    "threading.Thread(daemon=True, target=foobar).start()\n"
   ]
  },
  {
   "cell_type": "code",
   "execution_count": 9,
   "metadata": {},
   "outputs": [
    {
     "data": {
      "text/plain": [
       "_thread.lock"
      ]
     },
     "execution_count": 9,
     "metadata": {},
     "output_type": "execute_result"
    }
   ],
   "source": [
    "type(LOCK)"
   ]
  },
  {
   "cell_type": "code",
   "execution_count": 30,
   "metadata": {},
   "outputs": [
    {
     "name": "stdout",
     "output_type": "stream",
     "text": [
      "ruu ydpd uohvtw jifo\n"
     ]
    }
   ],
   "source": [
    "line1 = \"100 poiuytrewqlkjhgfdsamnbvcxz\"\n",
    "line2 = \"snn xufu ngebmv qwtg\"\n",
    "line3 = \"abcdefghijklmnopqrstuvwxyz\"\n",
    "input_line = line1.split()\n",
    "n = int(input_line[0])\n",
    "T = input_line[1]\n",
    "\n",
    "_dict_foo = {}\n",
    "for key1,key2 in zip(line3,T):\n",
    "    _dict_foo[key1] = key2\n",
    "n -= 1\n",
    "while n > 1:\n",
    "    for key_target in T:\n",
    "        for key, value in _dict_foo.items():\n",
    "            if key_target == value:\n",
    "                _dict_foo[key] = key_target\n",
    "    n -= 1\n",
    "_dict_bar = {v: k for k, v in _dict_foo.items()}\n",
    "S = line2\n",
    "for c in S:\n",
    "    if c in _dict_bar:\n",
    "        print(_dict_bar[c],end='')\n",
    "    else:\n",
    "        print(c,end='')\n",
    "print()"
   ]
  },
  {
   "cell_type": "code",
   "execution_count": 43,
   "metadata": {},
   "outputs": [
    {
     "name": "stdout",
     "output_type": "stream",
     "text": [
      "{'a': 'q', 'b': 'w', 'c': 'e', 'd': 'r', 'e': 't', 'f': 'y', 'g': 'u', 'h': 'i', 'i': 'o', 'j': 'p', 'k': 'a', 'l': 's', 'm': 'd', 'n': 'f', 'o': 'g', 'p': 'h', 'q': 'j', 'r': 'k', 's': 'l', 't': 'z', 'u': 'x', 'v': 'c', 'w': 'v', 'x': 'b', 'y': 'n', 'z': 'm'}\n",
      "paiza online hackathon\n"
     ]
    }
   ],
   "source": [
    "line1 = \"3 qwertyuiopasdfghjklzxcvbnm\"\n",
    "line2 = \"hqomq gfsoft iqeaqzigf\"\n",
    "line3 = \"abcdefghijklmnopqrstuvwxyz\"\n",
    "input_line = line1.split()\n",
    "n = int(input_line[0])\n",
    "T = input_line[1]\n",
    "\n",
    "_dict_foo = {}\n",
    "for key1,key2 in zip(line3,T):\n",
    "    _dict_foo[key1] = key2\n",
    "n -= 1\n",
    "print(_dict_foo)\n",
    "_dict_bar = {v: k for k, v in _dict_foo.items()}\n",
    "S = line2\n",
    "for c in S:\n",
    "    if c in _dict_bar:\n",
    "        print(_dict_bar[c],end='')\n",
    "    else:\n",
    "        print(c,end='')\n",
    "print()"
   ]
  },
  {
   "cell_type": "code",
   "execution_count": 49,
   "metadata": {},
   "outputs": [
    {
     "data": {
      "text/plain": [
       "['q',\n",
       " 'w',\n",
       " 'e',\n",
       " 'r',\n",
       " 't',\n",
       " 'y',\n",
       " 'u',\n",
       " 'i',\n",
       " 'o',\n",
       " 'p',\n",
       " 'a',\n",
       " 's',\n",
       " 'd',\n",
       " 'f',\n",
       " 'g',\n",
       " 'h',\n",
       " 'j',\n",
       " 'k',\n",
       " 'l',\n",
       " 'z',\n",
       " 'x',\n",
       " 'c',\n",
       " 'v',\n",
       " 'b',\n",
       " 'n',\n",
       " 'm']"
      ]
     },
     "execution_count": 49,
     "metadata": {},
     "output_type": "execute_result"
    }
   ],
   "source": [
    "line1=\"abcdefghijklmnopqrstuvwxyz\"\n",
    "line2=\"qwertyuiopasdfghjklzxcvbnm\"\n",
    "_list_foo = []\n",
    "for c1, c2 in zip(line1,line2):\n",
    "    _list_foo.append(ord(c2)-ord(c1))\n",
    "#     print(ord(c1),ord(c2),ord(c2)-ord(c1))\n",
    "line3=\"\"\n",
    "for c1, offset in zip(line1, _list_foo):\n",
    "    line3.append(chr(ord(c1)+offset))\n",
    "line3"
   ]
  },
  {
   "cell_type": "code",
   "execution_count": 2,
   "metadata": {},
   "outputs": [],
   "source": [
    "import re\n",
    "def fb_in_words(Gcode,*keywords):\n",
    "    pass\n",
    "Gcode = \"G00 G90 G54.1 P2 X0.000 Y12.000\""
   ]
  },
  {
   "cell_type": "code",
   "execution_count": 7,
   "metadata": {},
   "outputs": [
    {
     "data": {
      "text/plain": [
       "<re.Match object; span=(0, 4), match='G00 '>"
      ]
     },
     "execution_count": 7,
     "metadata": {},
     "output_type": "execute_result"
    }
   ],
   "source": [
    "import re\n",
    "keyword = 'G00'+'\\D'\n",
    "re.compile(keyword).search(Gcode)"
   ]
  },
  {
   "cell_type": "code",
   "execution_count": 8,
   "metadata": {},
   "outputs": [
    {
     "data": {
      "text/plain": [
       "[{'a': 'foo', 'b': 2}, {'a': 'baz', 'b': 2}, {'a': 'foobaz', 'b': 2}]"
      ]
     },
     "execution_count": 8,
     "metadata": {},
     "output_type": "execute_result"
    }
   ],
   "source": [
    "a = [{\"a\":\"foo\",\"b\":2},{\"a\":\"baz\",\"b\":2},{\"a\":\"foobaz\",\"b\":2}]\n",
    "a"
   ]
  },
  {
   "cell_type": "code",
   "execution_count": 10,
   "metadata": {},
   "outputs": [
    {
     "data": {
      "text/plain": [
       "['foo', 'baz', 'foobaz']"
      ]
     },
     "execution_count": 10,
     "metadata": {},
     "output_type": "execute_result"
    }
   ],
   "source": [
    "list(map(lambda x : x[\"a\"],a))"
   ]
  },
  {
   "cell_type": "code",
   "execution_count": 11,
   "metadata": {},
   "outputs": [
    {
     "data": {
      "text/plain": [
       "['foo', 'baz', 'foobaz']"
      ]
     },
     "execution_count": 11,
     "metadata": {},
     "output_type": "execute_result"
    }
   ],
   "source": [
    "[x[\"a\"] for x in a]"
   ]
  },
  {
   "cell_type": "code",
   "execution_count": 13,
   "metadata": {},
   "outputs": [
    {
     "name": "stdout",
     "output_type": "stream",
     "text": [
      "hello\n"
     ]
    },
    {
     "data": {
      "text/plain": [
       "(None, None)"
      ]
     },
     "execution_count": 13,
     "metadata": {},
     "output_type": "execute_result"
    }
   ],
   "source": [
    "def foo():\n",
    "    print(\"hello\")\n",
    "    return None,None\n",
    "foo()"
   ]
  },
  {
   "cell_type": "code",
   "execution_count": 15,
   "metadata": {},
   "outputs": [
    {
     "data": {
      "text/plain": [
       "False"
      ]
     },
     "execution_count": 15,
     "metadata": {},
     "output_type": "execute_result"
    }
   ],
   "source": [
    "a = [[1,2]]\n",
    "b = [[1,2]]\n",
    "a is b"
   ]
  },
  {
   "cell_type": "markdown",
   "metadata": {},
   "source": [
    "# 4/23 \n",
    ". MQTTシリーズの作成\n"
   ]
  },
  {
   "cell_type": "code",
   "execution_count": 16,
   "metadata": {},
   "outputs": [
    {
     "name": "stdout",
     "output_type": "stream",
     "text": [
      "publish: 1\n",
      "Connected with result code 0\n"
     ]
    },
    {
     "ename": "KeyboardInterrupt",
     "evalue": "",
     "output_type": "error",
     "traceback": [
      "\u001b[0;31m---------------------------------------------------------------------------\u001b[0m",
      "\u001b[0;31mKeyboardInterrupt\u001b[0m                         Traceback (most recent call last)",
      "\u001b[0;32m<ipython-input-16-3c56e5bcd242>\u001b[0m in \u001b[0;36m<module>\u001b[0;34m\u001b[0m\n\u001b[1;32m     36\u001b[0m \u001b[0;34m\u001b[0m\u001b[0m\n\u001b[1;32m     37\u001b[0m \u001b[0;32mif\u001b[0m \u001b[0m__name__\u001b[0m \u001b[0;34m==\u001b[0m \u001b[0;34m'__main__'\u001b[0m\u001b[0;34m:\u001b[0m          \u001b[0;31m# importされないときだけmain()を呼ぶ\u001b[0m\u001b[0;34m\u001b[0m\u001b[0;34m\u001b[0m\u001b[0m\n\u001b[0;32m---> 38\u001b[0;31m   \u001b[0mmain\u001b[0m\u001b[0;34m(\u001b[0m\u001b[0;34m)\u001b[0m    \u001b[0;31m# メイン関数を呼び出す\u001b[0m\u001b[0;34m\u001b[0m\u001b[0;34m\u001b[0m\u001b[0m\n\u001b[0m",
      "\u001b[0;32m<ipython-input-16-3c56e5bcd242>\u001b[0m in \u001b[0;36mmain\u001b[0;34m()\u001b[0m\n\u001b[1;32m     33\u001b[0m   \u001b[0;32mwhile\u001b[0m \u001b[0;32mTrue\u001b[0m\u001b[0;34m:\u001b[0m\u001b[0;34m\u001b[0m\u001b[0;34m\u001b[0m\u001b[0m\n\u001b[1;32m     34\u001b[0m     \u001b[0mclient\u001b[0m\u001b[0;34m.\u001b[0m\u001b[0mpublish\u001b[0m\u001b[0;34m(\u001b[0m\u001b[0;34m\"drone/001\"\u001b[0m\u001b[0;34m,\u001b[0m\u001b[0;34m\"Hello, Drone!\"\u001b[0m\u001b[0;34m)\u001b[0m    \u001b[0;31m# トピック名とメッセージを決めて送信\u001b[0m\u001b[0;34m\u001b[0m\u001b[0;34m\u001b[0m\u001b[0m\n\u001b[0;32m---> 35\u001b[0;31m     \u001b[0msleep\u001b[0m\u001b[0;34m(\u001b[0m\u001b[0;36m3\u001b[0m\u001b[0;34m)\u001b[0m   \u001b[0;31m# 3秒待つ\u001b[0m\u001b[0;34m\u001b[0m\u001b[0;34m\u001b[0m\u001b[0m\n\u001b[0m\u001b[1;32m     36\u001b[0m \u001b[0;34m\u001b[0m\u001b[0m\n\u001b[1;32m     37\u001b[0m \u001b[0;32mif\u001b[0m \u001b[0m__name__\u001b[0m \u001b[0;34m==\u001b[0m \u001b[0;34m'__main__'\u001b[0m\u001b[0;34m:\u001b[0m          \u001b[0;31m# importされないときだけmain()を呼ぶ\u001b[0m\u001b[0;34m\u001b[0m\u001b[0;34m\u001b[0m\u001b[0m\n",
      "\u001b[0;31mKeyboardInterrupt\u001b[0m: "
     ]
    }
   ],
   "source": [
    "#!usr/bin/env python\n",
    "# -*- coding: utf-8 -*- \n",
    "\n",
    "import paho.mqtt.client as mqtt     # MQTTのライブラリをインポート\n",
    "from time import sleep              # 3秒間のウェイトのために使う\n",
    "\n",
    "# ブローカーに接続できたときの処理\n",
    "def on_connect(client, userdata, flag, rc):\n",
    "  print(\"Connected with result code \" + str(rc))\n",
    "\n",
    "# ブローカーが切断したときの処理\n",
    "def on_disconnect(client, userdata, flag, rc):\n",
    "  if rc != 0:\n",
    "     print(\"Unexpected disconnection.\")\n",
    "\n",
    "# publishが完了したときの処理\n",
    "def on_publish(client, userdata, mid):\n",
    "  print(\"publish: {0}\".format(mid))\n",
    "\n",
    "# メイン関数   この関数は末尾のif文から呼び出される\n",
    "def main():\n",
    "  client = mqtt.Client()                 # クラスのインスタンス(実体)の作成\n",
    "  client.on_connect = on_connect         # 接続時のコールバック関数を登録\n",
    "  client.on_disconnect = on_disconnect   # 切断時のコールバックを登録\n",
    "  client.on_publish = on_publish         # メッセージ送信時のコールバック\n",
    "\n",
    "  client.connect(\"localhost\", 1883, 60)  # 接続先は自分自身\n",
    "\n",
    "  # 通信処理スタート\n",
    "  client.loop_start()    # subはloop_forever()だが，pubはloop_start()で起動だけさせる\n",
    "\n",
    "  # 永久に繰り返す\n",
    "  while True:\n",
    "    client.publish(\"drone/001\",\"Hello, Drone!\")    # トピック名とメッセージを決めて送信\n",
    "    sleep(3)   # 3秒待つ\n",
    "\n",
    "if __name__ == '__main__':          # importされないときだけmain()を呼ぶ\n",
    "  main()    # メイン関数を呼び出す"
   ]
  },
  {
   "cell_type": "code",
   "execution_count": 1,
   "metadata": {},
   "outputs": [
    {
     "data": {
      "text/plain": [
       "'__main__'"
      ]
     },
     "execution_count": 1,
     "metadata": {},
     "output_type": "execute_result"
    }
   ],
   "source": [
    "__name__"
   ]
  },
  {
   "cell_type": "code",
   "execution_count": 23,
   "metadata": {},
   "outputs": [
    {
     "name": "stdout",
     "output_type": "stream",
     "text": [
      "[1, 2, 3]\n"
     ]
    }
   ],
   "source": [
    "l1 = [1,2,3]\n",
    "l2 = [6,5,4]\n",
    "result = list(set(l1) - set(l2))\n",
    "print(result)"
   ]
  },
  {
   "cell_type": "code",
   "execution_count": null,
   "metadata": {},
   "outputs": [],
   "source": []
  }
 ],
 "metadata": {
  "kernelspec": {
   "display_name": "Python 3",
   "language": "python",
   "name": "python3"
  },
  "language_info": {
   "codemirror_mode": {
    "name": "ipython",
    "version": 3
   },
   "file_extension": ".py",
   "mimetype": "text/x-python",
   "name": "python",
   "nbconvert_exporter": "python",
   "pygments_lexer": "ipython3",
   "version": "3.7.3"
  }
 },
 "nbformat": 4,
 "nbformat_minor": 2
}
