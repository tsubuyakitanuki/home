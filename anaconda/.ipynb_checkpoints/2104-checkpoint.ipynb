{
 "cells": [
  {
   "cell_type": "markdown",
   "metadata": {},
   "source": [
    "スレッド実験"
   ]
  },
  {
   "cell_type": "code",
   "execution_count": 17,
   "metadata": {},
   "outputs": [
    {
     "name": "stdout",
     "output_type": "stream",
     "text": [
      "START foo\n",
      "START baz\n",
      "IN LOCK\n",
      "START barIN LOCK\n",
      "\n",
      "IN LOCK\n",
      "IN LOCK\n",
      "IN LOCK\n",
      "IN LOCK\n",
      "START foobar\n"
     ]
    }
   ],
   "source": [
    "import threading\n",
    "import time\n",
    "import sys\n",
    "# sys._getframe().f_code.co_name自身の関数名を取得\n",
    "\n",
    "def foo():\n",
    "    global LOCK\n",
    "    with LOCK:\n",
    "        print(\"START\",sys._getframe().f_code.co_name)\n",
    "        time.sleep(1)\n",
    "\n",
    "def bar():\n",
    "    global LOCK\n",
    "    with LOCK:\n",
    "        print(\"START\",sys._getframe().f_code.co_name)\n",
    "        time.sleep(5)\n",
    "def foobar():\n",
    "    global LOCK\n",
    "    while LOCK.locked():\n",
    "        print(\"IN LOCK\")\n",
    "        time.sleep(1)\n",
    "    with LOCK:\n",
    "        print(\"START\",sys._getframe().f_code.co_name)\n",
    "def baz():\n",
    "    print(\"START\",sys._getframe().f_code.co_name)\n",
    "\n",
    "LOCK = threading.Lock()\n",
    "threading.Thread(daemon=True, target=foo).start()\n",
    "threading.Thread(daemon=True,target=baz).start()\n",
    "threading.Thread(daemon=True, target=bar).start()\n",
    "threading.Thread(daemon=True, target=foobar).start()\n"
   ]
  },
  {
   "cell_type": "code",
   "execution_count": 9,
   "metadata": {},
   "outputs": [
    {
     "data": {
      "text/plain": [
       "_thread.lock"
      ]
     },
     "execution_count": 9,
     "metadata": {},
     "output_type": "execute_result"
    }
   ],
   "source": [
    "type(LOCK)"
   ]
  },
  {
   "cell_type": "code",
   "execution_count": 28,
   "metadata": {},
   "outputs": [
    {
     "name": "stdout",
     "output_type": "stream",
     "text": [
      "{'a': 'q', 'b': 'w', 'c': 'e', 'd': 'r', 'e': 't', 'f': 'y', 'g': 'u', 'h': 'i', 'i': 'o', 'j': 'p', 'k': 'a', 'l': 's', 'm': 'd', 'n': 'f', 'o': 'g', 'p': 'h', 'q': 'j', 'r': 'k', 's': 'l', 't': 'z', 'u': 'x', 'v': 'c', 'w': 'v', 'x': 'b', 'y': 'n', 'z': 'm'}\n",
      "paiza online hackathon\n"
     ]
    }
   ],
   "source": [
    "line1 = \"1 qwertyuiopasdfghjklzxcvbnm\"\n",
    "line2 = \"hqomq gfsoft iqeaqzigf\"\n",
    "line3 = \"abcdefghijklmnopqrstuvwxyz\"\n",
    "input_line = line1.split()\n",
    "n = int(input_line[0])\n",
    "T = input_line[1]\n",
    "\n",
    "_dict_foo = {}\n",
    "for key1,key2 in zip(line3,T):\n",
    "    _dict_foo[key1] = key2\n",
    "n -= 1\n",
    "while n > 1:\n",
    "    for key_target in T:\n",
    "        for key, value in _dict_foo.items():\n",
    "            if key_target == value:\n",
    "                _dict_foo[key] = key_target\n",
    "_dict_bar = {v: k for k, v in _dict_foo.items()}\n",
    "S = line2\n",
    "for c in S:\n",
    "    if c in _dict_bar:\n",
    "        print(_dict_bar[c],end='')\n",
    "    else:\n",
    "        print(c,end='')\n",
    "print()"
   ]
  },
  {
   "cell_type": "code",
   "execution_count": 18,
   "metadata": {},
   "outputs": [
    {
     "data": {
      "text/plain": [
       "{'a': 'a',\n",
       " 'b': 'b',\n",
       " 'c': 'c',\n",
       " 'd': 'd',\n",
       " 'e': 'e',\n",
       " 'f': 'f',\n",
       " 'g': 'g',\n",
       " 'h': 'h',\n",
       " 'i': 'i',\n",
       " 'j': 'j',\n",
       " 'k': 'k',\n",
       " 'l': 'l',\n",
       " 'm': 'm',\n",
       " 'n': 'n',\n",
       " 'o': 'o',\n",
       " 'p': 'p',\n",
       " 'q': 'q',\n",
       " 'r': 'r',\n",
       " 's': 's',\n",
       " 't': 't',\n",
       " 'u': 'u',\n",
       " 'v': 'v',\n",
       " 'w': 'w',\n",
       " 'x': 'x',\n",
       " 'y': 'y',\n",
       " 'z': 'z'}"
      ]
     },
     "execution_count": 18,
     "metadata": {},
     "output_type": "execute_result"
    }
   ],
   "source": [
    "_dict_foo"
   ]
  },
  {
   "cell_type": "code",
   "execution_count": null,
   "metadata": {},
   "outputs": [],
   "source": []
  }
 ],
 "metadata": {
  "kernelspec": {
   "display_name": "Python 3",
   "language": "python",
   "name": "python3"
  },
  "language_info": {
   "codemirror_mode": {
    "name": "ipython",
    "version": 3
   },
   "file_extension": ".py",
   "mimetype": "text/x-python",
   "name": "python",
   "nbconvert_exporter": "python",
   "pygments_lexer": "ipython3",
   "version": "3.7.3"
  }
 },
 "nbformat": 4,
 "nbformat_minor": 2
}
